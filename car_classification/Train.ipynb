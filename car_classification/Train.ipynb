{
 "cells": [
  {
   "cell_type": "markdown",
   "metadata": {},
   "source": [
    "### Multi-label classificatio"
   ]
  },
  {
   "cell_type": "code",
   "execution_count": 1,
   "metadata": {},
   "outputs": [],
   "source": [
    "%reload_ext autoreload\n",
    "%autoreload 2\n",
    "%matplotlib inline"
   ]
  },
  {
   "cell_type": "code",
   "execution_count": 3,
   "metadata": {},
   "outputs": [],
   "source": [
    "from fastai.conv_learner import *\n",
    "from fastai.imports import *\n",
    "from fastai.transforms import *\n",
    "from fastai.dataset import *\n",
    "from sklearn.metrics import fbeta_score"
   ]
  },
  {
   "cell_type": "code",
   "execution_count": 4,
   "metadata": {},
   "outputs": [
    {
     "name": "stdout",
     "output_type": "stream",
     "text": [
      "<torch.cuda.device object at 0x7fd3a7249b70>\n",
      "Tesla K80\n"
     ]
    }
   ],
   "source": [
    "# no need this\n",
    "# torch.cuda.set_device(0)\n",
    "print(torch.cuda.device(0))\n",
    "print(torch.cuda.get_device_name(0))"
   ]
  },
  {
   "cell_type": "code",
   "execution_count": 5,
   "metadata": {},
   "outputs": [],
   "source": [
    "PATH = 'data/'\n",
    "arch=resnext50\n",
    "bs=28"
   ]
  },
  {
   "cell_type": "code",
   "execution_count": 6,
   "metadata": {},
   "outputs": [],
   "source": [
    "def get_data(size):\n",
    "    tfms = tfms_from_model(arch, size, aug_tfms=transforms_side_on, max_zoom=1.1)\n",
    "    return ImageClassifierData.from_paths(PATH, tfms=tfms, bs=bs, num_workers=4)"
   ]
  },
  {
   "cell_type": "code",
   "execution_count": 7,
   "metadata": {},
   "outputs": [
    {
     "name": "stdout",
     "output_type": "stream",
     "text": [
      "datasets: [<fastai.dataset.FilesIndexArrayDataset object at 0x7fd3a71e3128>, <fastai.dataset.FilesIndexArrayDataset object at 0x7fd3a71e3278>, <fastai.dataset.FilesIndexArrayDataset object at 0x7fd3a71e3240>, <fastai.dataset.FilesIndexArrayDataset object at 0x7fd3a71e32e8>, None, None]\n"
     ]
    },
    {
     "data": {
      "application/vnd.jupyter.widget-view+json": {
       "model_id": "2788815b5de4484c8cc25e1279ebb432",
       "version_major": 2,
       "version_minor": 0
      },
      "text/plain": [
       "HBox(children=(IntProgress(value=0, max=6), HTML(value='')))"
      ]
     },
     "metadata": {},
     "output_type": "display_data"
    },
    {
     "name": "stdout",
     "output_type": "stream",
     "text": [
      "\n"
     ]
    }
   ],
   "source": [
    "size = 64\n",
    "data = get_data(size)\n",
    "data = data.resize(int(size*1.3), 'tmp') \n",
    "# for speed up training in different size by pre generate new size image"
   ]
  },
  {
   "cell_type": "markdown",
   "metadata": {},
   "source": [
    "### 1. Find learning rate"
   ]
  },
  {
   "cell_type": "code",
   "execution_count": 8,
   "metadata": {},
   "outputs": [
    {
     "data": {
      "application/vnd.jupyter.widget-view+json": {
       "model_id": "3f55d74316c845de8fd3e51254571dab",
       "version_major": 2,
       "version_minor": 0
      },
      "text/plain": [
       "HBox(children=(IntProgress(value=0, description='Epoch', max=1), HTML(value='')))"
      ]
     },
     "metadata": {},
     "output_type": "display_data"
    },
    {
     "name": "stdout",
     "output_type": "stream",
     "text": [
      " 81%|████████  | 323/401 [00:15<00:03, 20.63it/s, loss=7.34]"
     ]
    },
    {
     "data": {
      "image/png": "[encoded data removed]",
      "text/plain": [
       "<Figure size 432x288 with 1 Axes>"
      ]
     },
     "metadata": {},
     "output_type": "display_data"
    }
   ],
   "source": [
    "learn = ConvLearner.pretrained(arch, data)\n",
    "learn.lr_find()\n",
    "learn.sched.plot()"
   ]
  },
  {
   "cell_type": "code",
   "execution_count": 9,
   "metadata": {},
   "outputs": [
    {
     "data": {
      "image/png": "[encoded data removed]",
      "text/plain": [
       "<Figure size 432x288 with 1 Axes>"
      ]
     },
     "metadata": {},
     "output_type": "display_data"
    }
   ],
   "source": [
    "learn.sched.plot_lr()"
   ]
  },
  {
   "cell_type": "markdown",
   "metadata": {},
   "source": [
    "### 2. Train Last Fully Connected Layer"
   ]
  },
  {
   "cell_type": "code",
   "execution_count": 10,
   "metadata": {},
   "outputs": [
    {
     "data": {
      "application/vnd.jupyter.widget-view+json": {
       "model_id": "e65cb1b4fa3d43a79b22c8308915e245",
       "version_major": 2,
       "version_minor": 0
      },
      "text/plain": [
       "HBox(children=(IntProgress(value=0, description='Epoch', max=7), HTML(value='')))"
      ]
     },
     "metadata": {},
     "output_type": "display_data"
    },
    {
     "name": "stdout",
     "output_type": "stream",
     "text": [
      "epoch      trn_loss   val_loss   accuracy                   \n",
      "    0      1.737236   1.534693   0.412679  \n",
      "    1      1.612046   1.499702   0.425971                   \n",
      "    2      1.566464   1.467794   0.440082                   \n",
      "    3      1.580781   1.499021   0.427812                   \n",
      "    4      1.530756   1.449272   0.440491                   \n",
      "    5      1.491813   1.437651   0.452147                   \n",
      "    6      1.466317   1.432516   0.452147                   \n"
     ]
    },
    {
     "data": {
      "text/plain": [
       "[array([1.43252]), 0.45214724007742535]"
      ]
     },
     "execution_count": 10,
     "metadata": {},
     "output_type": "execute_result"
    }
   ],
   "source": [
    "lr = 0.03\n",
    "learn.fit(lr, 3, cycle_len=1, cycle_mult=2)"
   ]
  },
  {
   "cell_type": "markdown",
   "metadata": {},
   "source": [
    "### 3. Unfreeze to train all layers"
   ]
  },
  {
   "cell_type": "code",
   "execution_count": 11,
   "metadata": {},
   "outputs": [
    {
     "data": {
      "application/vnd.jupyter.widget-view+json": {
       "model_id": "7d2f9f30edc143e2960fb3a527cb4482",
       "version_major": 2,
       "version_minor": 0
      },
      "text/plain": [
       "HBox(children=(IntProgress(value=0, description='Epoch', max=7), HTML(value='')))"
      ]
     },
     "metadata": {},
     "output_type": "display_data"
    },
    {
     "name": "stdout",
     "output_type": "stream",
     "text": [
      "epoch      trn_loss   val_loss   accuracy                   \n",
      "    0      1.449009   1.33199    0.492229  \n",
      "    1      1.309058   1.232155   0.536196                   \n",
      "    2      1.095586   1.036637   0.608998                   \n",
      "    3      1.276902   1.134522   0.57137                    \n",
      "    4      1.06972    1.074965   0.59407                    \n",
      "    5      0.893925   0.90271    0.667894                    \n",
      "    6      0.799381   0.86758    0.674642                    \n"
     ]
    },
    {
     "data": {
      "text/plain": [
       "[array([0.86758]), 0.6746421290077802]"
      ]
     },
     "execution_count": 11,
     "metadata": {},
     "output_type": "execute_result"
    }
   ],
   "source": [
    "learn.unfreeze()\n",
    "lrs = np.array([lr/9,lr/3,lr])\n",
    "learn.fit(lrs, 3, cycle_len=1, cycle_mult=2)"
   ]
  },
  {
   "cell_type": "code",
   "execution_count": 12,
   "metadata": {},
   "outputs": [
    {
     "data": {
      "image/png": "[encoded data removed]",
      "text/plain": [
       "<Figure size 432x288 with 1 Axes>"
      ]
     },
     "metadata": {},
     "output_type": "display_data"
    }
   ],
   "source": [
    "learn.save(f'{size}')\n",
    "learn.sched.plot_loss()"
   ]
  },
  {
   "cell_type": "code",
   "execution_count": 13,
   "metadata": {},
   "outputs": [
    {
     "name": "stdout",
     "output_type": "stream",
     "text": [
      "                                             \r"
     ]
    },
    {
     "data": {
      "text/plain": [
       "0.694683026584867"
      ]
     },
     "execution_count": 13,
     "metadata": {},
     "output_type": "execute_result"
    }
   ],
   "source": [
    "multi_preds, y = learn.TTA()\n",
    "preds = np.mean(multi_preds, 0)\n",
    "accuracy_np(preds,y)"
   ]
  },
  {
   "cell_type": "markdown",
   "metadata": {},
   "source": [
    "### 4. Change size to size=128 and do it again"
   ]
  },
  {
   "cell_type": "code",
   "execution_count": 14,
   "metadata": {},
   "outputs": [
    {
     "name": "stdout",
     "output_type": "stream",
     "text": [
      "datasets: [<fastai.dataset.FilesIndexArrayDataset object at 0x7fd39d8d6630>, <fastai.dataset.FilesIndexArrayDataset object at 0x7fd3a55d4748>, <fastai.dataset.FilesIndexArrayDataset object at 0x7fd3a55d4828>, <fastai.dataset.FilesIndexArrayDataset object at 0x7fd3a55d4518>, None, None]\n"
     ]
    },
    {
     "data": {
      "application/vnd.jupyter.widget-view+json": {
       "model_id": "e8b65908481a49a4bf7540c7bf6c5262",
       "version_major": 2,
       "version_minor": 0
      },
      "text/plain": [
       "HBox(children=(IntProgress(value=0, description='Epoch', max=7), HTML(value='')))"
      ]
     },
     "metadata": {},
     "output_type": "display_data"
    },
    {
     "name": "stdout",
     "output_type": "stream",
     "text": [
      "epoch      trn_loss   val_loss   accuracy                   \n",
      "    0      1.313924   1.270706   0.514315  \n",
      "    1      1.308728   1.22943    0.53047                    \n",
      "    2      1.281856   1.198086   0.54499                    \n",
      "    3      1.288984   1.214843   0.534765                   \n",
      "    4      1.282455   1.183581   0.559509                   \n",
      "    5      1.237996   1.162247   0.556033                   \n",
      "    6      1.227102   1.168151   0.559918                   \n"
     ]
    },
    {
     "data": {
      "text/plain": [
       "[array([1.16815]), 0.5599181993851144]"
      ]
     },
     "execution_count": 14,
     "metadata": {},
     "output_type": "execute_result"
    }
   ],
   "source": [
    "size=128\n",
    "learn.set_data(get_data(size))\n",
    "learn.freeze()\n",
    "learn.fit(lr, 3, cycle_len=1, cycle_mult=2)"
   ]
  },
  {
   "cell_type": "code",
   "execution_count": 15,
   "metadata": {},
   "outputs": [
    {
     "data": {
      "application/vnd.jupyter.widget-view+json": {
       "model_id": "5477de1f5a244ed9be1cbbe4346f52bf",
       "version_major": 2,
       "version_minor": 0
      },
      "text/plain": [
       "HBox(children=(IntProgress(value=0, description='Epoch', max=7), HTML(value='')))"
      ]
     },
     "metadata": {},
     "output_type": "display_data"
    },
    {
     "name": "stdout",
     "output_type": "stream",
     "text": [
      "epoch      trn_loss   val_loss   accuracy                    \n",
      "    0      0.81136    0.708471   0.742331  \n",
      "    1      0.737268   0.668667   0.755624                    \n",
      "    2      0.511038   0.50617    0.817587                    \n",
      "    3      0.670441   0.666676   0.760327                    \n",
      "    4      0.519012   0.520643   0.816769                    \n",
      "    5      0.314246   0.403175   0.859305                    \n",
      "    6      0.24398    0.386163   0.863804                    \n"
     ]
    }
   ],
   "source": [
    "learn.unfreeze()\n",
    "learn.fit(lrs, 3, cycle_len=1, cycle_mult=2)\n",
    "learn.save(f'{size}')"
   ]
  },
  {
   "cell_type": "markdown",
   "metadata": {},
   "source": [
    "### 5. Change size to size=256 and do it again"
   ]
  },
  {
   "cell_type": "code",
   "execution_count": 16,
   "metadata": {},
   "outputs": [
    {
     "name": "stdout",
     "output_type": "stream",
     "text": [
      "datasets: [<fastai.dataset.FilesIndexArrayDataset object at 0x7fd3922e2860>, <fastai.dataset.FilesIndexArrayDataset object at 0x7fd3922e2b38>, <fastai.dataset.FilesIndexArrayDataset object at 0x7fd3922e2fd0>, <fastai.dataset.FilesIndexArrayDataset object at 0x7fd3922e2048>, None, None]\n"
     ]
    },
    {
     "data": {
      "application/vnd.jupyter.widget-view+json": {
       "model_id": "26d66138a1e7414590a45bc94a224e8b",
       "version_major": 2,
       "version_minor": 0
      },
      "text/plain": [
       "HBox(children=(IntProgress(value=0, description='Epoch', max=7), HTML(value='')))"
      ]
     },
     "metadata": {},
     "output_type": "display_data"
    },
    {
     "name": "stdout",
     "output_type": "stream",
     "text": [
      "epoch      trn_loss   val_loss   accuracy                    \n",
      "    0      0.834367   0.772174   0.716155  \n",
      "    1      0.797181   0.742164   0.725767                    \n",
      "    2      0.771666   0.727207   0.729243                    \n",
      "    3      0.802541   0.721893   0.734765                    \n",
      "    4      0.775885   0.689071   0.744581                    \n",
      "    5      0.765953   0.673079   0.750511                    \n",
      "    6      0.712555   0.667213   0.749898                    \n"
     ]
    },
    {
     "data": {
      "text/plain": [
       "[array([0.66721]), 0.749897750998811]"
      ]
     },
     "execution_count": 16,
     "metadata": {},
     "output_type": "execute_result"
    }
   ],
   "source": [
    "size=256\n",
    "learn.set_data(get_data(size))\n",
    "learn.freeze()\n",
    "learn.fit(lr, 3, cycle_len=1, cycle_mult=2)"
   ]
  },
  {
   "cell_type": "code",
   "execution_count": 17,
   "metadata": {},
   "outputs": [
    {
     "data": {
      "application/vnd.jupyter.widget-view+json": {
       "model_id": "4a22f337afa34eaca5f894120cbea340",
       "version_major": 2,
       "version_minor": 0
      },
      "text/plain": [
       "HBox(children=(IntProgress(value=0, description='Epoch', max=7), HTML(value='')))"
      ]
     },
     "metadata": {},
     "output_type": "display_data"
    },
    {
     "name": "stdout",
     "output_type": "stream",
     "text": [
      "epoch      trn_loss   val_loss   accuracy                    \n",
      "    0      0.438623   0.337773   0.880368  \n",
      "    1      0.435906   0.346754   0.875869                    \n",
      "    2      0.238214   0.223086   0.924131                    \n",
      "    3      0.38956    0.31798    0.884458                    \n",
      "    4      0.267015   0.279959   0.90184                     \n",
      "    5      0.148069   0.193816   0.932924                    \n",
      "    6      0.120448   0.177729   0.939468                     \n"
     ]
    }
   ],
   "source": [
    "learn.unfreeze()\n",
    "learn.fit(lrs, 3, cycle_len=1, cycle_mult=2)\n",
    "learn.save(f'{size}')"
   ]
  },
  {
   "cell_type": "markdown",
   "metadata": {},
   "source": [
    "### Last Accuracy"
   ]
  },
  {
   "cell_type": "code",
   "execution_count": 18,
   "metadata": {},
   "outputs": [
    {
     "name": "stdout",
     "output_type": "stream",
     "text": [
      "                                             \r"
     ]
    },
    {
     "data": {
      "text/plain": [
       "0.9482617586912065"
      ]
     },
     "execution_count": 18,
     "metadata": {},
     "output_type": "execute_result"
    }
   ],
   "source": [
    "multi_preds, y = learn.TTA()\n",
    "preds = np.mean(multi_preds, 0)\n",
    "accuracy_np(preds,y)"
   ]
  },
  {
   "cell_type": "markdown",
   "metadata": {},
   "source": [
    "### Load Model"
   ]
  },
  {
   "cell_type": "code",
   "execution_count": 20,
   "metadata": {},
   "outputs": [
    {
     "name": "stdout",
     "output_type": "stream",
     "text": [
      "datasets: [<fastai.dataset.FilesIndexArrayDataset object at 0x7fd39d881c18>, <fastai.dataset.FilesIndexArrayDataset object at 0x7fd39d881ba8>, <fastai.dataset.FilesIndexArrayDataset object at 0x7fd39d881f60>, <fastai.dataset.FilesIndexArrayDataset object at 0x7fd39d881198>, None, None]\n",
      "                                             \r"
     ]
    },
    {
     "data": {
      "text/plain": [
       "0.9458077709611452"
      ]
     },
     "execution_count": 20,
     "metadata": {},
     "output_type": "execute_result"
    }
   ],
   "source": [
    "PATH = 'data/'\n",
    "arch=resnext50\n",
    "size = 256\n",
    "data = ImageClassifierData.from_paths(PATH, tfms=tfms_from_model(arch, size))\n",
    "learn = ConvLearner.pretrained(arch, data)\n",
    "learn.load('../../data/tmp/83/models/256')\n",
    "\n",
    "multi_preds, y = learn.TTA()\n",
    "preds = np.mean(multi_preds, 0)\n",
    "accuracy_np(preds,y)"
   ]
  },
  {
   "cell_type": "code",
   "execution_count": 38,
   "metadata": {},
   "outputs": [
    {
     "data": {
      "text/plain": [
       "2"
      ]
     },
     "execution_count": 38,
     "metadata": {},
     "output_type": "execute_result"
    }
   ],
   "source": [
    "def predict(image_path):\n",
    "    trn_tfms, val_tfms = tfms_from_model(arch, size)\n",
    "    img = open_image(image_path)\n",
    "    im = val_tfms(img)\n",
    "    return learn.predict_array(im[None])\n",
    "# np.argmax(predict('data/valid/convertible/Aston Martin V8 Vantage Convertible 201200239.jpg'))\n",
    "# np.argmax(predict('data/valid/coupe/Acura Integra Type R 200102742.jpg'))\n",
    "np.argmax(predict('data/valid/hatchback/Acura ZDX Hatchback 201200036.jpg'))\n"
   ]
  },
  {
   "cell_type": "code",
   "execution_count": 39,
   "metadata": {},
   "outputs": [
    {
     "data": {
      "text/plain": [
       "<fastai.dataset.FilesIndexArrayDataset at 0x7fd39d881ba8>"
      ]
     },
     "execution_count": 39,
     "metadata": {},
     "output_type": "execute_result"
    }
   ],
   "source": [
    "data.val_ds"
   ]
  },
  {
   "cell_type": "code",
   "execution_count": null,
   "metadata": {},
   "outputs": [],
   "source": []
  }
 ],
 "metadata": {
  "kernelspec": {
   "display_name": "Python 3",
   "language": "python",
   "name": "python3"
  },
  "language_info": {
   "codemirror_mode": {
    "name": "ipython",
    "version": 3
   },
   "file_extension": ".py",
   "mimetype": "text/x-python",
   "name": "python",
   "nbconvert_exporter": "python",
   "pygments_lexer": "ipython3",
   "version": "3.6.5"
  }
 },
 "nbformat": 4,
 "nbformat_minor": 2
}
